{
 "cells": [
  {
   "cell_type": "code",
   "execution_count": 6,
   "metadata": {},
   "outputs": [
    {
     "name": "stdout",
     "output_type": "stream",
     "text": [
      "All files have been successfully concatenated into: phase_field_combined.f90\n"
     ]
    }
   ],
   "source": [
    "# List of Fortran file names in correct order\n",
    "file_names = ['srt_precision.f90', \n",
    "              'srt_common_block.f90',\n",
    "              'srt_sighydrostatic_grad.f90',\n",
    "              'srt_uexternaldb.f90',\n",
    "              'srt_uel.f90',\n",
    "              'srt_uhard.f90',\n",
    "              'srt_umat.f90',\n",
    "              ]  \n",
    "\n",
    "# Define the output file\n",
    "output_file = 'phase_field_combined.f90'\n",
    "\n",
    "# Open the output file for writing\n",
    "with open(output_file, 'w') as outfile:\n",
    "    # Loop through each file in the provided list\n",
    "    for filename in file_names:\n",
    "        # Open and read the contents of each .f90 file\n",
    "        with open(filename, 'r') as infile:\n",
    "            # Write the contents to the output file\n",
    "            outfile.write(infile.read() + '\\n\\n')\n",
    "\n",
    "print(\"All files have been successfully concatenated into:\", output_file)\n"
   ]
  }
 ],
 "metadata": {
  "kernelspec": {
   "display_name": "Python 3",
   "language": "python",
   "name": "python3"
  },
  "language_info": {
   "codemirror_mode": {
    "name": "ipython",
    "version": 3
   },
   "file_extension": ".py",
   "mimetype": "text/x-python",
   "name": "python",
   "nbconvert_exporter": "python",
   "pygments_lexer": "ipython3",
   "version": "3.11.9"
  }
 },
 "nbformat": 4,
 "nbformat_minor": 2
}
