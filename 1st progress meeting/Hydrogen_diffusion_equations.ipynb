{
 "cells": [
  {
   "cell_type": "markdown",
   "metadata": {},
   "source": [
    "Oriani’s theory is based on considering a lattice consisting of\n",
    "two kinds of sites for occupancy by hydrogen. He postulates that\n",
    "the vast majority of sites are the ordinary or ‘‘normal interstitial”\n",
    "sites. The minor fraction of sites called ‘‘trapping” sites provides\n",
    "an energetically favourable environment for occupancy by the\n",
    "hydrogen atoms. "
   ]
  },
  {
   "cell_type": "markdown",
   "metadata": {},
   "source": [
    "Total concentration of hydrogen. The unit (1/m^3) is also called ppm, and also atoms per cubic unit, usually cubic meter\n",
    "\n",
    "$C [1/m^3] = C_1 [1/m^3] + C_T [unit: 1/m^3]$\n",
    "\n",
    "---\n",
    "\n",
    "$C_1$: number of H atoms per unit volume in the lattice \n",
    "\n",
    "$C_1 [1/m^3] = \\beta [\\text{dimless}] \\times \\theta_L [\\text{dimless}] \\times N_L [1/m^3]$\n",
    "\n",
    "where \n",
    "- $\\beta [\\text{dimless}]$: Number of interstitial sites per solvent atom\n",
    "- $\\theta_L [\\text{dimless}]$ in range [0,1] is fraction of lattice sites occupied by H atoms\n",
    "- $N_L$ [mol/m^3] (const) = $\\dfrac{\\rho [mol/m^3] N_A [mol^{-1}]}{A_r [\\text{dimless}]}$\n",
    "- or number of atoms of solvent per unit volume = molar density of lattice element * avogrado / relative atomic mass of the lattice element\n",
    "\n",
    "Relative atomic mass is unitless it is because it is just the relation between the mass of any atom with respect to the mass of c 12 atom.\n",
    "\n",
    "Avogradro constant = 6.02214 x 10^23 $mol^{-1}$\n",
    "\n",
    "---\n",
    "\n",
    "$C_T [1/m^3] = \\alpha [\\text{dimless}] \\times \\theta_T [\\text{dimless}] \\times N_T [1/m^3]$\n",
    "\n",
    "where \n",
    "\n",
    "- $\\alpha [\\text{dimless}]$: Number of trapping sites\n",
    "- $\\theta_T [\\text{dimless}]$ in range [0,1] is fraction of trapping sites occupied by H atoms\n",
    "- $N_T [1/m^3]$ is number of atomic trapping sites along the total dislocation line length per unit volume. It is proportional to the dislocation density ($\\rho_d$), which is function of accumulated plastic strain ($\\epsilon_p$), where \n",
    "- $a [m]$ is the lattice constant and the prefactor is 1/b, where b is the magnitude of the a/2<110> Burgers vector in fcc which is a reasonable approximation for the atomic spacing along a dislocation line. \n",
    "\n",
    "$N_T(\\epsilon_p) [1/m^3] = \\dfrac{\\sqrt{2}}{a [m]} \\times \\rho_d(\\epsilon_p) [1/m^2]$\n",
    "\n",
    "---\n",
    "It is more convenient when analysing H diffusion in a body to express the concentration in units of $mol/m^3$\n",
    "\n",
    "$\\bar{C}_L [mol/m^3] = C_1 [1/m^3] / N_A [mol^{-1}]$\n",
    "\n",
    "$\\bar{C} [mol/m^3] = C_T [1/m^3] / N_A [mol^{-1}]$\n",
    "\n",
    "---"
   ]
  },
  {
   "cell_type": "markdown",
   "metadata": {},
   "source": [
    "### Mass conservation"
   ]
  },
  {
   "cell_type": "markdown",
   "metadata": {},
   "source": [
    "Mass conservation states that the rate of change of the total hydrogen concentration in a volume $ \\Omega $ is equal to the flux $\\mathbf{\\bar{J}}$ $(mol \\cdot m^{-2} s^{-1})$ through the surface $ \\partial\\Omega $.\n",
    "\n",
    "$$\\frac{\\partial}{\\partial t} \\int_{\\Omega} (\\bar{C}_L + \\bar{C}) d\\Omega + \\int_{\\partial\\Omega} \\mathbf{\\bar{J}} \\cdot \\mathbf{n} dS = 0 \\quad \\text{Eq. 7}$$\n",
    "\n",
    "where $\\mathbf{n}$ is the outward normal to the surface $ \\partial\\Omega $.\n",
    "\n",
    "The driving force for diffusion is the chemical potential gradient, the flux $\\mathbf{\\bar{J}}$ can be expressed as follows:\n",
    "\n",
    "\n",
    "$$\\mathbf{\\bar{J}} = - \\frac{D_L C_1}{RT} \\nabla \\mu \\quad \\text{Eq. 8}$$  \n",
    "\n",
    "where $D_L$ is the diffusion coefficient for hydrogen. Here we ignore pipe diffusion along the dislocation line on grounds that the dislocation spacing is much larger than the core radius and that fast’ pipe diffusion may be slower than diffusion through the lattice. The chemical potential, $ \\mu $, is defined as follows:\n",
    "\n",
    "$$\\mu = \\mu_0 + RT \\ln \\bar{C}_L + \\mu_\\sigma \\quad \\text{Eq. 11}$$ \n",
    "\n",
    "$\\mu_0$ represents the chemical potential at standard condition, $\\mu_\\sigma = -\\sigma_H V_H$ where $\\sigma_H$ is the hydrostatic stress and $V_H$ the partial molar volume of hydrogen. Substituting (9) into (8) we obtain:\n",
    "\n",
    "$J = \\frac{D_L V_H \\bar{C}_L}{RT} \\nabla \\sigma_H - D_L \\nabla \\bar{C}_L \\quad \\text{Eq. 10}$\n",
    "\n",
    "Substituting (10) into (7) then gives:\n",
    "\n",
    "$$\\frac{\\partial}{\\partial t} \\int_{\\Omega} (\\bar{C}_L + \\bar{C}) d\\Omega + \\int_{\\partial\\Omega} \\left( \\dfrac{D_L V_H \\bar{C}_L}{RT} \\nabla \\sigma_H - D_L \\nabla \\bar{C}_L \\right) \\cdot \\mathbf{n} dS = 0 \\quad \\text{Eq. 11}$$\n",
    "\n",
    "Applying the divergence theorem, we obtain:\n",
    "\n",
    "$$\\frac{\\partial \\bar{C}_L}{\\partial t} + \\frac{\\partial \\bar{C}}{\\partial t} + \\nabla \\cdot \\left( \\frac{D_L V_H \\bar{C}_L}{RT} \\nabla \\sigma_H \\right) - \\nabla \\cdot (D_L \\nabla \\bar{C}_L) = 0 \\quad \\text{Eq. 12}$$ \n",
    "\n",
    "---\n"
   ]
  },
  {
   "cell_type": "markdown",
   "metadata": {},
   "source": [
    "### The unknowns $\\bar{C}_L$ and $\\bar{C}$ "
   ]
  },
  {
   "cell_type": "markdown",
   "metadata": {},
   "source": [
    "In Eq. (12) there are two unknowns: $C_1$ and $C_T$. However following Oriani’s theory the H concentration in the lattice was assumed to be in equilibrium with the concentration in the traps. This means that once we know the concentration in the lattice we can calculate the concentration in the traps.\n",
    "\n",
    "$$\\bar{C} = \\dfrac{N_T \\theta_T}{N_A} = \\dfrac{N_T}{N_A} \\dfrac{1}{1+\\dfrac{(1-\\theta_T)}{\\theta_T}} \\quad \\text{Eq. 13}$$\n",
    "\n",
    "Oriani’s theory states that for $\\theta_L << 1$:\n",
    "\n",
    "$$\\dfrac{\\theta_T}{(1 - \\theta_T)} = K \\theta_L \\quad \\text{Eq. 14} $$ \n",
    "\n",
    "where\n",
    "\n",
    "$$K = \\exp \\left( \\dfrac{-W_B}{RT} \\right) = \\text{const.}  \\quad \\text{Eq. 15} $$ \n",
    "\n",
    "and $ W_B < 0 $ represents the binding energy for the traps. Substituting (14) into (13) we can express the concentration in the traps as a function of the density of trapping sites and the concentration in the lattice:\n",
    "\n",
    "$$ \\bar{C}(C_1, \\bar{N}_T) = \\bar{N}_T (\\epsilon_p) \\dfrac{K\\theta_L}{1 + K\\theta_L} \\dfrac{\\beta \\bar{N}_L}{\\beta \\bar{N}_L} = \\bar{N}_T(\\epsilon_p) \\dfrac{K \\bar{C}_L}{\\beta \\bar{N}_L + K \\bar{C}_L} \\text{Eq. 16} $$\n",
    "\n",
    "where\n",
    "\n",
    "$$ \\bar{N}_L = \\dfrac{N_L}{N_A} = \\text{const.} \\quad \\quad \\bar{N}_T (\\epsilon_p) = \\dfrac{N_T (\\epsilon_p)}{N_A} \\text{Eq. 17}$$\n",
    "\n",
    "where $\\epsilon_p$ is a scalar measure of the plastic strain and $\\bar{N}_T(\\epsilon_p)$ is a function of the plastic strain through (4) and the constitutive relationship that relates dislocation density to $\\epsilon_p$. The time derivative of the trapping site concentration, $\\frac{\\partial \\bar{C}}{\\partial t}$ in (12), can now be expressed as follows:\n",
    "\n",
    "$$\\frac{\\partial \\bar{C}}{\\partial t} = \\frac{\\partial \\bar{C}}{\\partial \\bar{C}_L} \\frac{\\partial \\bar{C}_L}{\\partial t} + \\frac{\\partial \\bar{C}}{\\partial \\bar{N}_T} \\frac{d \\bar{N}_T}{d\\epsilon^p} \\frac{d\\epsilon^p}{dt} \\quad \\text{Eq. 18}$$\n",
    "\n",
    "Substituting (18) in (12) we obtain:\n",
    "\n",
    "$$\\frac{\\partial \\bar{C}_L}{\\partial t} \\left( 1 + \\frac{\\partial \\bar{C}}{\\partial \\bar{C}_L} \\right) - \\nabla \\cdot (D_L \\nabla \\bar{C}_L) + \\nabla \\cdot \\left( \\frac{D_L \\bar{C}_L V_H}{RT} \\nabla \\sigma_H \\right) + \\frac{\\partial \\bar{C}}{\\partial \\bar{N}_T} \\frac{d \\bar{N}_T}{d\\epsilon^p} \\frac{d\\epsilon^p}{dt} = 0 \\quad \\text{Eq. 19}$$\n",
    "\n",
    "From (16) we obtain:\n",
    "\n",
    "$$\\frac{\\partial \\bar{C}}{\\partial \\bar{C}_L} = \\frac{\\beta \\bar{N}_T K \\bar{N}_L}{(\\beta \\bar{N}_L + K \\bar{C}_L)^2} \\quad \\text{Eq. 20}$$\n",
    "\n",
    "$$\\frac{\\partial \\bar{C}}{\\partial N_T} = \\frac{K \\bar{C}_L}{\\beta \\bar{N}_L + K \\bar{C}_L} \\quad \\text{Eq. 21}$$\n",
    "\n",
    "---"
   ]
  },
  {
   "cell_type": "markdown",
   "metadata": {},
   "source": [
    "### Analogy with the heat transfer problem"
   ]
  },
  {
   "cell_type": "markdown",
   "metadata": {},
   "source": [
    "| Heat equation                          | Mass diffusion equation                                  |\n",
    "|---------------------------------------|----------------------------------------------------------|\n",
    "| $\\rho c_p \\dfrac{\\partial T}{\\partial t} + \\nabla \\cdot \\mathbf{J}_q + r_q = 0$ | $frac{\\partial C_T}{\\partial t} + \\nabla \\cdot \\mathbf{J}_m + r_m = 0$ |\n",
    "| Derivative of thermal energy per unit mass $U̇_q = c_p \\frac{\\partial T}{\\partial t}$ | Derivative of total H concentration $frac{\\partial \\bar{C}}{\\partial t} = \\frac{\\partial (\\bar{C}_L + \\bar{C})}{\\partial t}$ |\n",
    "| Degree of freedom: temperature $T$    | Degree of freedom: lattice H concentration $\\bar{C}_L$ |\n",
    "| Heat flux: $\\mathbf{\\bar{J}}_q$                      | Hydrogen flux: $\\mathbf{\\bar{J}}_m = \\dfrac{D_L \\bar{C}_L V_H}{RT} \\nabla \\sigma_H - D_L \\vec{\\nabla} \\bar{C}_L$ |\n",
    "| Heat source: $r_q$ (assume $r_q = 0$) | Hydrogen source: $r_m$ (assume $r_m = 0$)                 |\n",
    "| density: $\\rho$                       | 1 Unity                                                  |\n",
    "\n",
    "\n",
    "The hydrogen diffusion Eq. (19) can be written using the formalism appropriate for the subroutine as follows:\n",
    "\n",
    "$$\\bar{C} (t + \\Delta t) = \\bar{C} (t) + \\frac{\\partial \\bar{C}}{\\partial \\bar{C}_L} d \\bar{C}_L + \\frac{\\partial \\bar{C}}{\\partial \\bar{N}_T} \\frac{d \\bar{N}_T}{d\\epsilon_p} d\\epsilon_p \\quad \\text{Eq. 22} $$\n",
    "\n",
    "The terms in (22) can be obtained as follows:\n",
    "\n",
    "$$\\frac{\\partial \\bar{C}}{\\partial \\bar{C}_L} = 1 + \\frac{\\beta \\bar{N_T} K \\bar{N}_L}{(\\beta \\bar{N}_L + K \\bar{C}_L)^2}\n",
    "\\\\\n",
    "\\frac{\\partial \\bar{C}}{\\partial \\bar{N}_T} = \\frac{K \\bar{C}_L}{K \\bar{C}_L + \\beta \\bar{N}_L}\n",
    "\\\\\n",
    "\\frac{\\partial \\vec{\\mathbf{\\bar{J}}}_m}{\\partial \\bar{C}_L} = \\frac{D_L V_H}{RT} \\vec{\\nabla} \\sigma_H\n",
    "\\\\\n",
    "\\frac{\\partial \\vec{\\mathbf{\\bar{J}}}_m}{\\partial (\\nabla \\bar{C}_L)} = - D_L \\mathbf{I} \\quad \\text{Eq. 23}$$\n",
    "\n",
    "where $\\mathbf{I}$ is the identity matrix. \n",
    "\n",
    "| Heat equation                                         | Mass diffusion equation                                  |\n",
    "|-------------------------------------------------------|----------------------------------------------------------|\n",
    "| Quantity to be defined in the UMATHT                   | Quantity to be defined in the UMATHT                     |\n",
    "| Heat equation                                   | Mass diffusion equation                               |                                                          |                                                      |\n",
    "| $\\frac{\\partial U_q}{\\partial T}$, $\\frac{\\partial U_q}{\\partial \\nabla T}$, $\\frac{\\partial \\bar{J}_q}{\\partial T}$, $\\frac{\\partial \\bar{J}_q}{\\partial \\nabla T}$ | $\\frac{\\partial \\bar{C}_T}{\\partial \\bar{C}_L}$, $\\frac{\\partial \\bar{C}_T}{\\partial N_T}$, $\\frac{\\partial \\bar{J}_m}{\\partial \\bar{C}_L}$, $\\frac{\\partial \\bar{J}_m}{\\partial (\\nabla \\bar{C}_L)}$ |\n",
    "\n",
    "\n"
   ]
  },
  {
   "cell_type": "markdown",
   "metadata": {},
   "source": [
    "### Numerical results: pure diffusion"
   ]
  },
  {
   "cell_type": "markdown",
   "metadata": {},
   "source": [
    "We present here the solution of a simple 1D diffusion problem, Fig. 1, which we can compare with the analytical solution. We consider that all H resides in lattice sites, i.e there are no traps and $\\bar{C} = \\bar{C}_L$. Fig. 1 shows a bar of length $l = 50 mm$. $\\bar{C}_L = 0$ throughout the bar and at time $t = 0$ the concentration at one end is increased to $100 mol/m^3$. Fig. 1 shows the full transient solution. The governing equation for this problem is well known as well as the analytic solution [20]:\n",
    "\n",
    "$$\\frac{\\partial \\bar{C}_L^2}{\\partial x^2} = \\frac{1}{D_L} \\frac{\\partial \\bar{C}_L}{\\partial t} \\quad \\text{Eq. 26}$$\n",
    "\n",
    "The analytic solution reads:\n",
    "\n",
    "$$\\bar{C}_L(x, t) = \\bar{C}_0 + \\frac{x}{l} (\\bar{C}_l - \\bar{C}_0) + \\sum_{n=1}^{\\infty} c_n exp\\left(-\\frac{n^2 \\pi^2 D_L t}{l^2}\\right) \\sin\\left(\\frac{n \\pi x}{l}\\right) \\quad \\text{Eq. 27}$$\n",
    "\n",
    "and\n",
    "\n",
    "$$ c_n = \\frac{2}{l} \\int_{0}^{l} f(x) \\sin \\left( \\frac{n\\pi x}{l} \\right) dx + \\frac{2}{n\\pi} \\left[ -1^n (\\bar{C}_l - \\bar{C}_0) \\right ] \\quad \\text{Eq. 28}$$ \n",
    "\n",
    "\n",
    "Eq. (26) is essentially a simplified version of (19) in which the term $\\frac{\\partial \\bar{C}}{\\partial \\bar{C}_L} = 0$ and the last two terms of (19) are zero. Eq. (26) is implemented in UMATHT by simply coding the following terms:\n",
    "\n",
    "$$\\dfrac{\\partial \\bar{C}}{\\partial \\bar{C}_L} = 1 \\quad \\text{Eq. 29}$$\n",
    "\n",
    "$$\\dfrac{\\partial \\mathbf{\\bar{J}}_m}{\\partial (\\nabla \\bar{C}_L)} = -D_L \\mathbf{I} \\quad \\text{Eq. 30}$$\n",
    "\n",
    "Fig. 1 shows the transient hydrogen concentration distribution along the bar for both the analytical and computational solution. The value of diffusivity is $D_L = 3.8 \\times 10^{-11} m^2/s$ and the computations were conducted using quadratic continuum coupled temperature-displacements hybrid element i.e. CPE8HT. The characteristic time for diffusion (i.e. time necessary for hydrogen to diffuse along the bar) can be determined by using the well known relation $t = \\frac{l^2}{D_L} = 6.5 \\times 10^7 s$. Here we consider a fixed time step of $dt = 1 \\times 10^4 s$ and a total time of $t = 1 \\times 10^6 s$. The Abaqus results almost perfectly agree with the analytic solution of (27).\n"
   ]
  }
 ],
 "metadata": {
  "kernelspec": {
   "display_name": "Python 3",
   "language": "python",
   "name": "python3"
  },
  "language_info": {
   "name": "python",
   "version": "3.12.2"
  }
 },
 "nbformat": 4,
 "nbformat_minor": 2
}
