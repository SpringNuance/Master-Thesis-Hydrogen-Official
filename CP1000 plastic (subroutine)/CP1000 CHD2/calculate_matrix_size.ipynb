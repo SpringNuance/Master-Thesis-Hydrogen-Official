{
 "cells": [
  {
   "cell_type": "code",
   "execution_count": 6,
   "metadata": {},
   "outputs": [
    {
     "name": "stdout",
     "output_type": "stream",
     "text": [
      "Total size in bytes: 19200000\n",
      "Total size in megabytes: 18.310546875\n"
     ]
    }
   ],
   "source": [
    "# Re-attempting the calculation for total size in bytes\n",
    "element_size_bytes = 8  # size of each double-precision float in bytes\n",
    "num_elements = 100000\n",
    "num_integration_points = 8\n",
    "num_spatial_dim = 3\n",
    "\n",
    "# Calculate the total size in bytes\n",
    "total_size_bytes = element_size_bytes * num_elements * num_integration_points * num_spatial_dim\n",
    "total_megabytes = total_size_bytes / (1024 * 1024)\n",
    "print(f\"Total size in bytes: {total_size_bytes}\")\n",
    "print(f\"Total size in megabytes: {total_megabytes}\")\n"
   ]
  }
 ],
 "metadata": {
  "kernelspec": {
   "display_name": "Python 3",
   "language": "python",
   "name": "python3"
  },
  "language_info": {
   "codemirror_mode": {
    "name": "ipython",
    "version": 3
   },
   "file_extension": ".py",
   "mimetype": "text/x-python",
   "name": "python",
   "nbconvert_exporter": "python",
   "pygments_lexer": "ipython3",
   "version": "3.11.9"
  }
 },
 "nbformat": 4,
 "nbformat_minor": 2
}
