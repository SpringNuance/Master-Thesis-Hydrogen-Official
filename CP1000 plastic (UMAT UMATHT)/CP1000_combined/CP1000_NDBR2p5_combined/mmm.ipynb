{
 "cells": [
  {
   "cell_type": "code",
   "execution_count": 1,
   "metadata": {},
   "outputs": [
    {
     "name": "stdout",
     "output_type": "stream",
     "text": [
      "The platform is Windows.\n"
     ]
    }
   ],
   "source": [
    "import platform\n",
    "\n",
    "# Get the platform name\n",
    "current_os = platform.system()\n",
    "\n",
    "if current_os == \"Linux\":\n",
    "    print(\"The platform is Linux.\")\n",
    "elif current_os == \"Windows\":\n",
    "    print(\"The platform is Windows.\")\n",
    "else:\n",
    "    print(f\"The platform is {current_os}.\")\n"
   ]
  }
 ],
 "metadata": {
  "kernelspec": {
   "display_name": "Python 3",
   "language": "python",
   "name": "python3"
  },
  "language_info": {
   "codemirror_mode": {
    "name": "ipython",
    "version": 3
   },
   "file_extension": ".py",
   "mimetype": "text/x-python",
   "name": "python",
   "nbconvert_exporter": "python",
   "pygments_lexer": "ipython3",
   "version": "3.11.9"
  }
 },
 "nbformat": 4,
 "nbformat_minor": 2
}
