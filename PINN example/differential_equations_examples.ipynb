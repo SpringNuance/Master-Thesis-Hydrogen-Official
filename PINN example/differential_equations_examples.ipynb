{
 "cells": [
  {
   "cell_type": "markdown",
   "id": "91b6a844",
   "metadata": {},
   "source": [
    "## Ordinary Differential Equation (ODE)\n"
   ]
  },
  {
   "cell_type": "markdown",
   "id": "a9fd7851",
   "metadata": {},
   "source": [
    "An example of an ODE is the simple harmonic oscillator, \n",
    "\n",
    "which describes the motion of a mass on a spring:\n"
   ]
  },
  {
   "cell_type": "markdown",
   "id": "1246cfb6",
   "metadata": {},
   "source": [
    "$ \\frac{d^2x}{dt^2} + \\omega^2 x = 0 $\n"
   ]
  },
  {
   "cell_type": "markdown",
   "id": "25455e7c",
   "metadata": {},
   "source": [
    "where $x$ is the displacement and $\\omega$ is the angular frequency of the oscillator.\n"
   ]
  },
  {
   "cell_type": "markdown",
   "id": "55ff4cbd",
   "metadata": {},
   "source": [
    "## Partial Differential Equation (PDE)\n"
   ]
  },
  {
   "cell_type": "markdown",
   "id": "d69545a6",
   "metadata": {},
   "source": [
    "The heat equation is a well-known PDE that describes \n",
    "\n",
    "the distribution of heat (or variation in temperature) \n",
    "\n",
    "in a given region over time:\n"
   ]
  },
  {
   "cell_type": "markdown",
   "id": "280bf666",
   "metadata": {},
   "source": [
    "$ \\frac{\\partial u}{\\partial t} - \\alpha \\nabla^2 u = 0 $\n"
   ]
  },
  {
   "cell_type": "markdown",
   "id": "0994e232",
   "metadata": {},
   "source": [
    "where $u$ is the temperature, $t$ is time, and $\\alpha$ is the thermal diffusivity\n"
   ]
  },
  {
   "cell_type": "markdown",
   "id": "7ab80ee4",
   "metadata": {},
   "source": [
    "## Integral Differential Equation (IDE)\n"
   ]
  },
  {
   "cell_type": "markdown",
   "id": "93c66907",
   "metadata": {},
   "source": [
    "An example of an IDE is the Fredholm equation of the second kind, \n",
    "\n",
    "which can be used to model phenomena in potential theory:\n"
   ]
  },
  {
   "cell_type": "markdown",
   "id": "d900d84e",
   "metadata": {},
   "source": [
    "$$ u(x) = f(x) + \\lambda \\int_{a}^{b} K(x, s) u(s) ds $$\n"
   ]
  },
  {
   "cell_type": "markdown",
   "id": "1819e8b9",
   "metadata": {},
   "source": [
    "where $u(x)$ is the unknown function to be solved for, $f(x)$ is a known function, \n",
    "\n",
    "$\\lambda$ is a constant, and $K(x, s)$ is the kernel function.\n"
   ]
  },
  {
   "cell_type": "markdown",
   "id": "a5a37b7f",
   "metadata": {},
   "source": [
    "## Fractional Partial Differential Equation (fPDE)\n"
   ]
  },
  {
   "cell_type": "markdown",
   "id": "61e906eb",
   "metadata": {},
   "source": [
    "The fractional diffusion equation is an example of fPDE, which accounts for \n",
    "\n",
    "anomalous diffusion observed in many physical phenomena:\n"
   ]
  },
  {
   "cell_type": "markdown",
   "id": "04b82726",
   "metadata": {},
   "source": [
    "$ \\frac{\\partial^{\\alpha} u}{\\partial t^{\\alpha}} + \\nabla \\cdot (D(u) \\nabla u) = f(u) $\n"
   ]
  },
  {
   "cell_type": "markdown",
   "id": "7384a451",
   "metadata": {},
   "source": [
    "where $\\frac{\\partial^{\\alpha}}{\\partial t^{\\alpha}}$ is the Caputo \n",
    "\n",
    "fractional derivative of order $\\alpha$ with respect to time, \n",
    "\n",
    "$D(u)$ is the diffusion coefficient, and $f(u)$ is a function of $u$."
   ]
  }
 ],
 "metadata": {
  "language_info": {
   "name": "python"
  }
 },
 "nbformat": 4,
 "nbformat_minor": 5
}
